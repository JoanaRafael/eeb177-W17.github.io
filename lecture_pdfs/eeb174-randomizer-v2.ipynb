{
 "cells": [
  {
   "cell_type": "markdown",
   "metadata": {},
   "source": [
    "## Problem\n",
    "We need to decide on the order of presentations for next Tuesday and Thursday.\n",
    "\n",
    "## Data\n",
    "A list of students from the CCLE site.\n"
   ]
  },
  {
   "cell_type": "code",
   "execution_count": 70,
   "metadata": {
    "collapsed": false
   },
   "outputs": [
    {
     "data": {
      "text/plain": [
       "15"
      ]
     },
     "execution_count": 70,
     "metadata": {},
     "output_type": "execute_result"
    }
   ],
   "source": []
  },
  {
   "cell_type": "code",
   "execution_count": 82,
   "metadata": {
    "collapsed": false
   },
   "outputs": [
    {
     "name": "stdout",
     "output_type": "stream",
     "text": [
      "Name,E-mail\n",
      "\"CASTRO, DOMINIQUE SAN ANGELITO\"\n",
      "\"CHAU, YEE\"\n",
      "\"DANG, TIFFANY M\"\n",
      "\"DOWNING, MADISON ROSE\"\n",
      "\"GONZALEZ, ANTONELLA MARIE\"\n",
      "\"HOVSEPYAN, GAYANE\"\n",
      "\"JIANG, KELSEY DIAN\"\n",
      "\"KANTAWALA, ADITYA\"\n",
      "\"KASS, COOPER AARON\"\n",
      "\"KIL, HYEIN\"\n",
      "\"KIM, JIN SUN\"\n",
      "\"KIM, JUNGHOON\"\n",
      "\"KIM, SARAH\"\n",
      "\"LEE, JEFFREY QUINN\"\n",
      "\"LEE, KRISTEN KAZUMI\"\n",
      "\"MATHEW, SEAN JOSEPH\"\n",
      "\"MUIA, MATTHEW PAUL\"\n",
      "\"NOJOUMI, MEHDI\"\n",
      "\"NOJOUMI, ROXANA\"\n",
      "\"PARIKH, ASHEN UTPAL\"\n",
      "\"SALAMA, MARINA FAROUK\"\n",
      "\"SALAMA, YOUSTINA FAROUK\"\n",
      "\"SHIEH, JUSTIN\"\n",
      "\"SOLIS, ERIN MARIE\"\n",
      "\"SUN, LINNA\"\n",
      "\"TREJO, LAURA\"\n",
      "\"WADOWSKI, JEREMY S\"\n",
      "\"WONG, DUSTIN SINGWEI\"\n",
      "\"ZHOU, CHRISTINA\"\n",
      "\n",
      "\n"
     ]
    }
   ],
   "source": [
    "import pandas as pd\n",
    "import random\n",
    "\n",
    "infile = \"eeb174-undergrads.csv\"\n",
    "\n",
    "# lets have a look at the infile\n",
    "with open(infile,'r') as ff:\n",
    "    undergrads = ff.read()\n",
    "\n",
    "for line in undergrads.splitlines():\n",
    "    print(line)"
   ]
  },
  {
   "cell_type": "markdown",
   "metadata": {},
   "source": [
    "Lools like the first line in the file is misleading (no emails are included) and we have some blank lines at the end. Lets see if we can eliminate these problems."
   ]
  },
  {
   "cell_type": "code",
   "execution_count": 83,
   "metadata": {
    "collapsed": false
   },
   "outputs": [
    {
     "name": "stdout",
     "output_type": "stream",
     "text": [
      "\"CASTRO, DOMINIQUE SAN ANGELITO\"\n",
      "\"CHAU, YEE\"\n",
      "\"DANG, TIFFANY M\"\n",
      "\"DOWNING, MADISON ROSE\"\n",
      "\"GONZALEZ, ANTONELLA MARIE\"\n",
      "\"HOVSEPYAN, GAYANE\"\n",
      "\"JIANG, KELSEY DIAN\"\n",
      "\"KANTAWALA, ADITYA\"\n",
      "\"KASS, COOPER AARON\"\n",
      "\"KIL, HYEIN\"\n",
      "\"KIM, JIN SUN\"\n",
      "\"KIM, JUNGHOON\"\n",
      "\"KIM, SARAH\"\n",
      "\"LEE, JEFFREY QUINN\"\n",
      "\"LEE, KRISTEN KAZUMI\"\n",
      "\"MATHEW, SEAN JOSEPH\"\n",
      "\"MUIA, MATTHEW PAUL\"\n",
      "\"NOJOUMI, MEHDI\"\n",
      "\"NOJOUMI, ROXANA\"\n",
      "\"PARIKH, ASHEN UTPAL\"\n",
      "\"SALAMA, MARINA FAROUK\"\n",
      "\"SALAMA, YOUSTINA FAROUK\"\n",
      "\"SHIEH, JUSTIN\"\n",
      "\"SOLIS, ERIN MARIE\"\n",
      "\"SUN, LINNA\"\n",
      "\"TREJO, LAURA\"\n",
      "\"WADOWSKI, JEREMY S\"\n",
      "\"WONG, DUSTIN SINGWEI\"\n",
      "\"ZHOU, CHRISTINA\"\n"
     ]
    }
   ],
   "source": [
    "undergrads = undergrads.strip(\"\\n\\n\\n\")\n",
    "studentNames = undergrads.splitlines()\n",
    "studentNames = studentNames[1:] #get rid of the header row\n",
    "for line in studentNames:\n",
    "    print(line)"
   ]
  },
  {
   "cell_type": "code",
   "execution_count": 84,
   "metadata": {
    "collapsed": false
   },
   "outputs": [
    {
     "name": "stdout",
     "output_type": "stream",
     "text": [
      "There are 29 undergrads\n"
     ]
    }
   ],
   "source": [
    "print(\"There are {} undergrads\".format(len(studentNames)))"
   ]
  },
  {
   "cell_type": "markdown",
   "metadata": {},
   "source": [
    "We have two days. Lets do 15 on day 1 and 14 on day 2. We use the `random.sample()` function from the random library to randomize the list. Then we subet this into days 1 and 2."
   ]
  },
  {
   "cell_type": "code",
   "execution_count": 96,
   "metadata": {
    "collapsed": false
   },
   "outputs": [
    {
     "name": "stdout",
     "output_type": "stream",
     "text": [
      "29\n"
     ]
    }
   ],
   "source": [
    "\n",
    "#first lets make a list of each undergrad name\n",
    "class_order = random.sample(studentNames, len(studentNames) )\n",
    "class_order\n",
    "\n",
    "day1 = class_order[0:15]\n",
    "day2 = class_order[15:]\n",
    "print(len(day1) + len(day2)) # make sure we aren't leaving anyone out\n",
    "\n"
   ]
  },
  {
   "cell_type": "code",
   "execution_count": 86,
   "metadata": {
    "collapsed": false
   },
   "outputs": [
    {
     "name": "stdout",
     "output_type": "stream",
     "text": [
      "Tuesday, March 14th\n",
      " LAURA TREJO\n",
      " ASHEN UTPAL PARIKH\n",
      " YOUSTINA FAROUK SALAMA\n",
      " MATTHEW PAUL MUIA\n",
      " ANTONELLA MARIE GONZALEZ\n",
      " SEAN JOSEPH MATHEW\n",
      " ADITYA KANTAWALA\n",
      " HYEIN KIL\n",
      " TIFFANY M DANG\n",
      " MADISON ROSE DOWNING\n",
      " COOPER AARON KASS\n",
      " KELSEY DIAN JIANG\n",
      " DOMINIQUE SAN ANGELITO CASTRO\n",
      " CHRISTINA ZHOU\n",
      " DUSTIN SINGWEI WONG\n",
      "Thursday, March 16th\n",
      " JEREMY S WADOWSKI\n",
      " ROXANA NOJOUMI\n",
      " MARINA FAROUK SALAMA\n",
      " MEHDI NOJOUMI\n",
      " GAYANE HOVSEPYAN\n",
      " JEFFREY QUINN LEE\n",
      " YEE CHAU\n",
      " JIN SUN KIM\n",
      " KRISTEN KAZUMI LEE\n",
      " SARAH KIM\n",
      " ERIN MARIE SOLIS\n",
      " JUSTIN SHIEH\n",
      " JUNGHOON KIM\n",
      " LINNA SUN\n"
     ]
    }
   ],
   "source": [
    "\n",
    "print(\"Tuesday, March 14th\")\n",
    "for student in day1:\n",
    "    lname, fname = student.strip('\"').split(\",\")\n",
    "    print(\"{} {}\".format(fname, lname))\n",
    "    \n",
    "print(\"Thursday, March 16th\")\n",
    "for student in day2:\n",
    "    lname, fname = student.strip('\"').split(\",\")\n",
    "    print(\"{} {}\".format(fname, lname))\n",
    "    \n",
    "#print(class_order)"
   ]
  },
  {
   "cell_type": "markdown",
   "metadata": {},
   "source": [
    "can we make the output prettier?\n",
    "\n",
    "How could we change output to....\n",
    "\n",
    "```\n",
    "Presentation time  Student Name\n",
    "        9:35         Jon Snow\n",
    "        9:40         Arya Stark\n",
    "        ...          ...\n",
    "        \n",
    "```\n",
    "stay tuned....\n",
    "\n",
    "Lets try the datetime module"
   ]
  },
  {
   "cell_type": "code",
   "execution_count": 102,
   "metadata": {
    "collapsed": false
   },
   "outputs": [
    {
     "name": "stdout",
     "output_type": "stream",
     "text": [
      "09:30\n",
      "09:34\n",
      "09:38\n",
      "09:42\n",
      "09:46\n",
      "09:50\n",
      "09:54\n",
      "09:58\n",
      "10:02\n",
      "10:06\n",
      "10:10\n",
      "10:14\n",
      "10:18\n",
      "10:22\n",
      "10:26\n"
     ]
    }
   ],
   "source": [
    "import datetime\n",
    "\n",
    "dt = datetime.datetime(2017, 3, 14, 9, 30)\n",
    "end = datetime.datetime(2017, 3, 14, 10, 30)\n",
    "step = datetime.timedelta(minutes=4)\n",
    "\n",
    "times = []\n",
    "\n",
    "while dt < end:\n",
    "    times.append(dt.strftime('%H:%M'))\n",
    "    dt += step\n",
    "    \n",
    "for tt in times:\n",
    "    print(tt)"
   ]
  },
  {
   "cell_type": "markdown",
   "metadata": {},
   "source": [
    "OK that looks pretty good. Now we need to print this out with our names"
   ]
  },
  {
   "cell_type": "code",
   "execution_count": 122,
   "metadata": {
    "collapsed": false
   },
   "outputs": [
    {
     "name": "stdout",
     "output_type": "stream",
     "text": [
      "## Lightning Talk Schedule for Tuesday, March 14th\n",
      "09:30\tKelsey Jiang  \n",
      "09:34\tDominique Castro  \n",
      "09:38\tLinna Sun  \n",
      "09:42\tAshen Parikh  \n",
      "09:46\tMatthew Muia  \n",
      "09:50\tAntonella Gonzalez  \n",
      "09:54\tYee Chau  \n",
      "09:58\tKristen Lee  \n",
      "10:02\tMadison Downing  \n",
      "10:06\tYoustina Salama  \n",
      "10:10\tJeremy Wadowski  \n",
      "10:14\tMehdi Nojoumi  \n",
      "10:18\tJunghoon Kim  \n",
      "10:22\tDustin Wong  \n",
      "10:26\tHyein Kil  \n",
      "\n",
      "\n",
      "## Lightning Talk Schedule for Thursday, March 16th\n",
      "09:30\tAditya Kantawala  \n",
      "09:34\tJustin Shieh  \n",
      "09:38\tSarah Kim  \n",
      "09:42\tChristina Zhou  \n",
      "09:46\tGayane Hovsepyan  \n",
      "09:50\tRoxana Nojoumi  \n",
      "09:54\tCooper Kass  \n",
      "09:58\tJeffrey Lee  \n",
      "10:02\tLaura Trejo  \n",
      "10:06\tJin Kim  \n",
      "10:10\tMarina Salama  \n",
      "10:14\tErin Solis  \n",
      "10:18\tSean Mathew  \n",
      "10:22\tTiffany Dang  \n"
     ]
    }
   ],
   "source": [
    "def schedPrinter(times, student_names):\n",
    "    # this function prints out the times and names of students for an oral presentation\n",
    "    title = \"TIME\\t\\tSTUDENT\"\n",
    "    for time, name in zip(times, student_names):\n",
    "        lname, fname = name.strip('\"').split(',')\n",
    "        fname = (fname.lstrip().capitalize().split(\" \")[0])\n",
    "        lname = lname.capitalize()\n",
    "        print(\"{}\\t{} {}  \".format(time, fname, lname))\n",
    "\n",
    "##I use the ## in the print statements below because I am planning to process this text as a markdown cell\n",
    "print(\"## Lightning Talk Schedule for Tuesday, March 14th\")\n",
    "schedPrinter(times, day1)  \n",
    "print(\"\\n\")\n",
    "print(\"## Lightning Talk Schedule for Thursday, March 16th\")\n",
    "schedPrinter(times, day2)"
   ]
  },
  {
   "cell_type": "markdown",
   "metadata": {},
   "source": [
    "## Lightning Talk Schedule for Tuesday, March 14th\n",
    "09:30\tKelsey Jiang  \n",
    "09:34\tDominique Castro  \n",
    "09:38\tLinna Sun  \n",
    "09:42\tAshen Parikh  \n",
    "09:46\tMatthew Muia  \n",
    "09:50\tAntonella Gonzalez  \n",
    "09:54\tYee Chau  \n",
    "09:58\tKristen Lee  \n",
    "10:02\tMadison Downing  \n",
    "10:06\tYoustina Salama  \n",
    "10:10\tJeremy Wadowski  \n",
    "10:14\tMehdi Nojoumi  \n",
    "10:18\tJunghoon Kim  \n",
    "10:22\tDustin Wong  \n",
    "10:26\tHyein Kil  \n",
    "\n",
    "\n",
    "## Lightning Talk Schedule for Thursday, March 16th\n",
    "09:30\tAditya Kantawala  \n",
    "09:34\tJustin Shieh  \n",
    "09:38\tSarah Kim  \n",
    "09:42\tChristina Zhou  \n",
    "09:46\tGayane Hovsepyan  \n",
    "09:50\tRoxana Nojoumi  \n",
    "09:54\tCooper Kass  \n",
    "09:58\tJeffrey Lee  \n",
    "10:02\tLaura Trejo  \n",
    "10:06\tJin Kim  \n",
    "10:10\tMarina Salama  \n",
    "10:14\tErin Solis  \n",
    "10:18\tSean Mathew  \n",
    "10:22\tTiffany Dang  "
   ]
  },
  {
   "cell_type": "code",
   "execution_count": null,
   "metadata": {
    "collapsed": true
   },
   "outputs": [],
   "source": []
  }
 ],
 "metadata": {
  "kernelspec": {
   "display_name": "Python 3",
   "language": "python",
   "name": "python3"
  },
  "language_info": {
   "codemirror_mode": {
    "name": "ipython",
    "version": 3
   },
   "file_extension": ".py",
   "mimetype": "text/x-python",
   "name": "python",
   "nbconvert_exporter": "python",
   "pygments_lexer": "ipython3",
   "version": "3.6.0"
  }
 },
 "nbformat": 4,
 "nbformat_minor": 2
}
