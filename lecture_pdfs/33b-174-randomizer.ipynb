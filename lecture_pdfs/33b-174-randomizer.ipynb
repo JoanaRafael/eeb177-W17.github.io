{
 "cells": [
  {
   "cell_type": "markdown",
   "metadata": {},
   "source": [
    "## Problem\n",
    "We need to decide on the order of presentations for next Tuesday and Thursday.\n",
    "\n",
    "## Data\n",
    "A list of students from the CCLE site.\n"
   ]
  },
  {
   "cell_type": "code",
   "execution_count": null,
   "metadata": {
    "collapsed": true
   },
   "outputs": [],
   "source": []
  },
  {
   "cell_type": "code",
   "execution_count": 34,
   "metadata": {
    "collapsed": false
   },
   "outputs": [
    {
     "name": "stdout",
     "output_type": "stream",
     "text": [
      "Name,E-mail\n",
      "\"CASTRO, DOMINIQUE SAN ANGELITO\"\n",
      "\"CHAU, YEE\"\n",
      "\"DANG, TIFFANY M\"\n",
      "\"DOWNING, MADISON ROSE\"\n",
      "\"GONZALEZ, ANTONELLA MARIE\"\n",
      "\"HOVSEPYAN, GAYANE\"\n",
      "\"JIANG, KELSEY DIAN\"\n",
      "\"KANTAWALA, ADITYA\"\n",
      "\"KASS, COOPER AARON\"\n",
      "\"KIL, HYEIN\"\n",
      "\"KIM, JIN SUN\"\n",
      "\"KIM, JUNGHOON\"\n",
      "\"KIM, SARAH\"\n",
      "\"LEE, JEFFREY QUINN\"\n",
      "\"LEE, KRISTEN KAZUMI\"\n",
      "\"MATHEW, SEAN JOSEPH\"\n",
      "\"MUIA, MATTHEW PAUL\"\n",
      "\"NOJOUMI, MEHDI\"\n",
      "\"NOJOUMI, ROXANA\"\n",
      "\"PARIKH, ASHEN UTPAL\"\n",
      "\"SALAMA, MARINA FAROUK\"\n",
      "\"SALAMA, YOUSTINA FAROUK\"\n",
      "\"SHIEH, JUSTIN\"\n",
      "\"SOLIS, ERIN MARIE\"\n",
      "\"SUN, LINNA\"\n",
      "\"TREJO, LAURA\"\n",
      "\"WADOWSKI, JEREMY S\"\n",
      "\"WONG, DUSTIN SINGWEI\"\n",
      "\"ZHOU, CHRISTINA\"\n",
      "\n",
      "\n"
     ]
    }
   ],
   "source": [
    "import pandas as pd\n",
    "import random\n",
    "\n",
    "infile = \"eeb174-undergrads.csv\"\n",
    "\n",
    "# lets have a look at the infile\n",
    "with open(infile,'r') as ff:\n",
    "    undergrads = ff.read()\n",
    "\n",
    "for line in undergrads.splitlines():\n",
    "    print(line)"
   ]
  },
  {
   "cell_type": "markdown",
   "metadata": {},
   "source": [
    "Lools like the first line in the file is misleading (no emails are included) and we have some blank lines at the end. Lets see if we can eliminate these problems."
   ]
  },
  {
   "cell_type": "code",
   "execution_count": 43,
   "metadata": {
    "collapsed": false
   },
   "outputs": [
    {
     "name": "stdout",
     "output_type": "stream",
     "text": [
      "\"CASTRO, DOMINIQUE SAN ANGELITO\"\n",
      "\"CHAU, YEE\"\n",
      "\"DANG, TIFFANY M\"\n",
      "\"DOWNING, MADISON ROSE\"\n",
      "\"GONZALEZ, ANTONELLA MARIE\"\n",
      "\"HOVSEPYAN, GAYANE\"\n",
      "\"JIANG, KELSEY DIAN\"\n",
      "\"KANTAWALA, ADITYA\"\n",
      "\"KASS, COOPER AARON\"\n",
      "\"KIL, HYEIN\"\n",
      "\"KIM, JIN SUN\"\n",
      "\"KIM, JUNGHOON\"\n",
      "\"KIM, SARAH\"\n",
      "\"LEE, JEFFREY QUINN\"\n",
      "\"LEE, KRISTEN KAZUMI\"\n",
      "\"MATHEW, SEAN JOSEPH\"\n",
      "\"MUIA, MATTHEW PAUL\"\n",
      "\"NOJOUMI, MEHDI\"\n",
      "\"NOJOUMI, ROXANA\"\n",
      "\"PARIKH, ASHEN UTPAL\"\n",
      "\"SALAMA, MARINA FAROUK\"\n",
      "\"SALAMA, YOUSTINA FAROUK\"\n",
      "\"SHIEH, JUSTIN\"\n",
      "\"SOLIS, ERIN MARIE\"\n",
      "\"SUN, LINNA\"\n",
      "\"TREJO, LAURA\"\n",
      "\"WADOWSKI, JEREMY S\"\n",
      "\"WONG, DUSTIN SINGWEI\"\n",
      "\"ZHOU, CHRISTINA\"\n"
     ]
    }
   ],
   "source": [
    "undergrads = undergrads.strip(\"\\n\\n\\n\")\n",
    "studentNames = undergrads.splitlines()\n",
    "studentNames = studentNames[1:] #get rid of the header row\n",
    "for line in studentNames:\n",
    "    print(line)"
   ]
  },
  {
   "cell_type": "code",
   "execution_count": 45,
   "metadata": {
    "collapsed": false
   },
   "outputs": [
    {
     "name": "stdout",
     "output_type": "stream",
     "text": [
      "There are 29 undergrads\n"
     ]
    }
   ],
   "source": [
    "print(\"There are {} undergrads\".format(len(studentNames)))"
   ]
  },
  {
   "cell_type": "markdown",
   "metadata": {},
   "source": [
    "We have two days. Lets do 15 on day 1 and 14 on day 2. We use the `random.sample()` function from the random library to randomize the list. Then we subet this into days 1 and 2."
   ]
  },
  {
   "cell_type": "code",
   "execution_count": 48,
   "metadata": {
    "collapsed": false
   },
   "outputs": [
    {
     "name": "stdout",
     "output_type": "stream",
     "text": [
      "29\n"
     ]
    }
   ],
   "source": [
    "\n",
    "#first lets make a list of each undergrad name\n",
    "class_order = random.sample(studentNames, len(studentNames) )\n",
    "class_order\n",
    "\n",
    "day1 = class_order[0:15]\n",
    "day2 = class_order[15:]\n",
    "print(len(day1) + len(day2)) # make sure we aren't leaving anyone out\n",
    "\n"
   ]
  },
  {
   "cell_type": "code",
   "execution_count": 49,
   "metadata": {
    "collapsed": false
   },
   "outputs": [
    {
     "name": "stdout",
     "output_type": "stream",
     "text": [
      "Tuesday, March 14th\n",
      " MADISON ROSE DOWNING\n",
      " CHRISTINA ZHOU\n",
      " DOMINIQUE SAN ANGELITO CASTRO\n",
      " ADITYA KANTAWALA\n",
      " ANTONELLA MARIE GONZALEZ\n",
      " SARAH KIM\n",
      " LAURA TREJO\n",
      " HYEIN KIL\n",
      " COOPER AARON KASS\n",
      " KELSEY DIAN JIANG\n",
      " ERIN MARIE SOLIS\n",
      " ROXANA NOJOUMI\n",
      " MATTHEW PAUL MUIA\n",
      " JIN SUN KIM\n",
      " JUSTIN SHIEH\n",
      "Thursday, March 16th\n",
      " JEREMY S WADOWSKI\n",
      " MEHDI NOJOUMI\n",
      " MARINA FAROUK SALAMA\n",
      " ASHEN UTPAL PARIKH\n",
      " JEFFREY QUINN LEE\n",
      " GAYANE HOVSEPYAN\n",
      " YEE CHAU\n",
      " SEAN JOSEPH MATHEW\n",
      " TIFFANY M DANG\n",
      " LINNA SUN\n",
      " DUSTIN SINGWEI WONG\n",
      " YOUSTINA FAROUK SALAMA\n",
      " KRISTEN KAZUMI LEE\n",
      " JUNGHOON KIM\n",
      "['\"DOWNING, MADISON ROSE\"', '\"ZHOU, CHRISTINA\"', '\"CASTRO, DOMINIQUE SAN ANGELITO\"', '\"KANTAWALA, ADITYA\"', '\"GONZALEZ, ANTONELLA MARIE\"', '\"KIM, SARAH\"', '\"TREJO, LAURA\"', '\"KIL, HYEIN\"', '\"KASS, COOPER AARON\"', '\"JIANG, KELSEY DIAN\"', '\"SOLIS, ERIN MARIE\"', '\"NOJOUMI, ROXANA\"', '\"MUIA, MATTHEW PAUL\"', '\"KIM, JIN SUN\"', '\"SHIEH, JUSTIN\"', '\"WADOWSKI, JEREMY S\"', '\"NOJOUMI, MEHDI\"', '\"SALAMA, MARINA FAROUK\"', '\"PARIKH, ASHEN UTPAL\"', '\"LEE, JEFFREY QUINN\"', '\"HOVSEPYAN, GAYANE\"', '\"CHAU, YEE\"', '\"MATHEW, SEAN JOSEPH\"', '\"DANG, TIFFANY M\"', '\"SUN, LINNA\"', '\"WONG, DUSTIN SINGWEI\"', '\"SALAMA, YOUSTINA FAROUK\"', '\"LEE, KRISTEN KAZUMI\"', '\"KIM, JUNGHOON\"']\n"
     ]
    }
   ],
   "source": [
    "\n",
    "print(\"Tuesday, March 14th\")\n",
    "for student in day1:\n",
    "    lname, fname = student.strip('\"').split(\",\")\n",
    "    print(\"{} {}\".format(fname, lname))\n",
    "    \n",
    "print(\"Thursday, March 16th\")\n",
    "for student in day2:\n",
    "    lname, fname = student.strip('\"').split(\",\")\n",
    "    print(\"{} {}\".format(fname, lname))\n",
    "    \n",
    "print(class_order)"
   ]
  },
  {
   "cell_type": "markdown",
   "metadata": {},
   "source": [
    "can we make the output prettier?\n",
    "\n",
    "How could we change output to....\n",
    "\n",
    "```\n",
    "Presentation time  Student Name\n",
    "        9:35         Jon Snow\n",
    "        9:40         Arya Stark\n",
    "        ...          ...\n",
    "        \n",
    "```\n",
    "stay tuned...."
   ]
  },
  {
   "cell_type": "code",
   "execution_count": 50,
   "metadata": {
    "collapsed": false
   },
   "outputs": [],
   "source": [
    "# import pandas as pd\n",
    "# pd.date_range(\"9:35\", \"10:45\", freq=\"5min\").time"
   ]
  },
  {
   "cell_type": "code",
   "execution_count": null,
   "metadata": {
    "collapsed": true
   },
   "outputs": [],
   "source": [
    "# #infile = \"/Users/michael_alfaro/Dropbox/teaching/EEB-174-2016/16W-528180200-Winter_2016-EE_BIOL_C230_LEC_1-tsv.tsv\"\n",
    "# ###now do the same for the undergrads\n",
    "# infile = \"/Users/michael_alfaro/Dropbox/teaching/EEB-174-2016/16W-128744200-Winter_2016-EE_BIOL_C174_LEC_1-tsv.tsv\"\n",
    "# #grads = pd.read_csv(infile, sep = \"\\t\", index_col = \"UID\")\n",
    "# undergrads = pd.read_csv(infile, sep = \"\\t\", index_col = \"UID\")\n",
    "\n",
    "# #names = grads[\"Name\"].tolist()\n",
    "# names = undergrads[\"Name\"].tolist()\n",
    "\n",
    "\n",
    "# class_order = random.sample(names, len(names) )"
   ]
  }
 ],
 "metadata": {
  "kernelspec": {
   "display_name": "Python 3",
   "language": "python",
   "name": "python3"
  },
  "language_info": {
   "codemirror_mode": {
    "name": "ipython",
    "version": 3
   },
   "file_extension": ".py",
   "mimetype": "text/x-python",
   "name": "python",
   "nbconvert_exporter": "python",
   "pygments_lexer": "ipython3",
   "version": "3.6.0"
  }
 },
 "nbformat": 4,
 "nbformat_minor": 2
}
