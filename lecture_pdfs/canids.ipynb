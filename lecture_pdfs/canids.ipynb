{
 "cells": [
  {
   "cell_type": "markdown",
   "metadata": {},
   "source": [
    " # read in canid range data.\n",
    "    #for each species get uniques and stick them into a dictionary with the earliest and latest occurrence\n",
    "    "
   ]
  },
  {
   "cell_type": "markdown",
   "metadata": {},
   "source": [
    "## The canid pbdb file\n",
    "\n",
    "Examine the file `pbdb_data.csv`. We want to end up with a file that is csv formatted and includes only the ocurrence records (no headers). Use your shell commands to make this happen."
   ]
  },
  {
   "cell_type": "markdown",
   "metadata": {},
   "source": [
    "## Occurrences of canid species through time\n",
    "\n",
    "The data includes multiple observations of the same species at different time intervals. How can we visualize these occurences through time? We would need to know the first and last appearances of each species in the record. How can we get there?"
   ]
  },
  {
   "cell_type": "markdown",
   "metadata": {},
   "source": [
    "Think about using python to create a new csv file that has the following output fields:\n",
    "    \n",
    "**genus, species, earliest appearance, latest appearance**\n",
    "    \n",
    "that will look something like this\n",
    "    \n",
    "```\n",
    "Aelurodon,Aelurodon_asthenostylus,15.97,20.43\n",
    "Aelurodon,Aelurodon_ferox,13.6,23.03\n",
    "Aelurodon,Aelurodon_mcgrewi,15.97,23.03\n",
    "Aelurodon,Aelurodon_montanensis,15.97,15.97\n",
    "\n",
    "```\n"
   ]
  },
  {
   "cell_type": "code",
   "execution_count": 1,
   "metadata": {
    "collapsed": true
   },
   "outputs": [],
   "source": [
    "## open the file\n",
    "\n",
    "infile = \"cleaned-canids.csv\"\n",
    "with open(infile,'r') as ff:\n",
    "    canid_recs = ff.readlines()\n",
    "\n"
   ]
  },
  {
   "cell_type": "code",
   "execution_count": 15,
   "metadata": {
    "collapsed": false
   },
   "outputs": [],
   "source": [
    "#use defaultdict\n",
    "from collections import defaultdict\n",
    "\n",
    "species_ranges = defaultdict(list)\n",
    "\n",
    "\n",
    "# make a dictionary\n",
    "for line in canid_recs:\n",
    "    species = line.split(\",\")[5]\n",
    "    minage = line.split('\",\"')[10]\n",
    "    maxage = line.split('\",\"')[11]\n",
    "    mean_age = (float(minage) + float(maxage)) /2\n",
    "    \n",
    "    species_ranges[species].append(mean_age) # add species as keys and mean ages as elements to the list of ages\n",
    "    #print(mean_age)"
   ]
  },
  {
   "cell_type": "markdown",
   "metadata": {},
   "source": [
    "# get the oldest and youngest ages of fossils for each species in species_ranges"
   ]
  },
  {
   "cell_type": "code",
   "execution_count": 24,
   "metadata": {
    "collapsed": false
   },
   "outputs": [],
   "source": [
    "output = open(\"canid-ranges.csv\", \"w\")\n",
    "\n",
    "# can you sort the keys\n",
    "for key in species_ranges.keys():\n",
    "    ages = species_ranges[key]\n",
    "    minage = min(ages)\n",
    "    maxage = max(ages)\n",
    "    genus = key.split(\" \")[0]\n",
    "    species = key\n",
    "    #print(genus, key, minage, maxage)\n",
    "    outline = \"{},{},{},{}\\n\".format(genus, species , minage, maxage)\n",
    "    #print(outline)\n",
    "    output.write(outline)\n"
   ]
  },
  {
   "cell_type": "code",
   "execution_count": 1,
   "metadata": {
    "collapsed": false
   },
   "outputs": [],
   "source": [
    "import os\n",
    "from collections import defaultdict\n",
    "\n",
    "os.chdir(\"/Users/michael_alfaro/Dropbox/teaching/EEB 177:234 2016/range-plotting\")\n",
    "    "
   ]
  },
  {
   "cell_type": "code",
   "execution_count": null,
   "metadata": {
    "collapsed": true
   },
   "outputs": [],
   "source": []
  },
  {
   "cell_type": "code",
   "execution_count": 46,
   "metadata": {
    "collapsed": false
   },
   "outputs": [],
   "source": [
    "infile = \"cleaned-canids.csv\"\n",
    "with open(infile,'r') as ff:\n",
    "    output = ff.readlines()\n",
    "\n",
    "species_ranges = defaultdict(list)\n",
    "\n",
    "for line in output:\n",
    "    species = line.split(\",\")[5]\n",
    "    age = line.split(\",\")[10].strip('\"')\n",
    "    if not age:\n",
    "        print(species + \"no age\")\n",
    "    else:\n",
    "        age = float(age)\n",
    "    species_ranges[species].append(age)\n",
    "species_ranges.values()\n",
    "    \n",
    "# now get the min and max for each species\n",
    "# and write to a csv\n",
    "\n",
    "outfile = \"canid_fa_la.csv\"\n",
    "ff = open(outfile, \"w\")\n",
    "\n",
    "sortedkeys = sorted(species_ranges.keys())\n",
    "for key in sortedkeys:\n",
    "    # only deal with binomial species (not genera...)\n",
    "    if len(key.split()) > 1:\n",
    "        genus = key.split()[0].strip('\"')\n",
    "        species = key.strip('\"').replace(\" \", \"_\")\n",
    "        fo = min(species_ranges[key])\n",
    "        lo = max(species_ranges[key])\n",
    "        outline = \"{},{},{},{}\\n\".format(genus, species, fo, lo)\n",
    "        ff.write(outline)\n",
    "ff.close()"
   ]
  },
  {
   "cell_type": "code",
   "execution_count": null,
   "metadata": {
    "collapsed": false
   },
   "outputs": [],
   "source": []
  },
  {
   "cell_type": "code",
   "execution_count": 5,
   "metadata": {
    "collapsed": false
   },
   "outputs": [
    {
     "name": "stdout",
     "output_type": "stream",
     "text": [
      "cleaned-canids.csv  pbdb_data.csv\r\n"
     ]
    }
   ],
   "source": [
    "ls"
   ]
  },
  {
   "cell_type": "code",
   "execution_count": null,
   "metadata": {
    "collapsed": true
   },
   "outputs": [],
   "source": []
  }
 ],
 "metadata": {
  "kernelspec": {
   "display_name": "Python 3",
   "language": "python",
   "name": "python3"
  },
  "language_info": {
   "codemirror_mode": {
    "name": "ipython",
    "version": 3
   },
   "file_extension": ".py",
   "mimetype": "text/x-python",
   "name": "python",
   "nbconvert_exporter": "python",
   "pygments_lexer": "ipython3",
   "version": "3.6.0"
  }
 },
 "nbformat": 4,
 "nbformat_minor": 2
}
