{
 "cells": [
  {
   "cell_type": "markdown",
   "metadata": {},
   "source": [
    "### Recall the question\n",
    "\n",
    "5. Write a function that plays \"Rock Paper Scissors\" with the user. Your functions should meet the following criteria:\n",
    "\n",
    "```\n",
    "The function shold be named \"rps\"\n",
    "\n",
    "The user must input the words \"rock\" or \"paper\" or \"scissors\" into the function. If the user enters anything else, the function should print a statement asking the user to run it again properly.\n",
    "\n",
    "The function should randomly select one of \"rock, paper, scissors\" each time it is run. Hint: you wil have to use the \"choice\" function in the \"random\" library to select from a list each time. Feel free to google for advice on this.\n",
    "\n",
    "The function should follow the standard rules of rock paper scissors (\"rock beats scissors; scissors beats paper; paper beats rock; tie of both the same\") to determine a winner.\n",
    "\n",
    "The function should return a string of the following format: \"You picked <user_choice>; Computer picked <random_choice>; +1 for <You or Computer>!\"\n",
    "\n",
    "For example, rps(\"rock\") can return either one of the three sentences, depending on which is sampled randomly:\n",
    "\"You picked rock; Computer picked rock; this is a tie!\"\n",
    "\"You picked rock; Computer picked paper; +1 for Computer!\"\n",
    "\"You picked rock; Computer picked scissors; +1 for You!\"\n",
    "```\n",
    "\n"
   ]
  },
  {
   "cell_type": "code",
   "execution_count": 20,
   "metadata": {
    "collapsed": false
   },
   "outputs": [],
   "source": [
    "# Solution to rock paper scissors game\n",
    "# one of many possible answers...\n",
    "\n",
    "# We need the random library to get the computer to make a random choice\n",
    "import random\n",
    "\n",
    "# Define a list from which the computer can pick in the function\n",
    "options = [\"rock\", \"paper\", \"scissors\"]\n",
    "\n",
    "# Let's do this\n",
    "def rps(user_choice):\n",
    "    \n",
    "    # Check if the user has entered something other than\n",
    "    # \"rock\" or \"paper\" or \"scissors\"\n",
    "    # note: the \\ at the end of each of the next two lines\n",
    "    # indicates that there is one command split across multiple \n",
    "    # lines for readability\n",
    "    if not (user_choice == \"rock\" or\\\n",
    "            user_choice == \"paper\" or\\\n",
    "            user_choice == \"scissors\"):\n",
    "        # Chastize the user for entering something other than\n",
    "        # the legal options\n",
    "        print(\"no you dummy, pick 'rock' or 'paper' or 'scissors'!\")\n",
    "        \n",
    "    # If the user didn't do something silly, then play the game\n",
    "    else:\n",
    "        # The computer needs a pick!\n",
    "        computer_choice = random.choice(options)\n",
    "        \n",
    "        # Check if it's a tie and print out a good message\n",
    "        if user_choice == computer_choice:\n",
    "            print(\"it's a tie! You and computer both chose\", user_choice)\n",
    "        \n",
    "        # if it's not a tie, then maybe the user won\n",
    "        # Check all three possibilities for user winning\n",
    "        # and print out what went down\n",
    "        elif (user_choice == \"rock\" and computer_choice == \"scissors\") or\\\n",
    "        (user_choice == \"paper\" and computer_choice == \"rock\") or\\\n",
    "        (user_choice == \"scissors\" and computer_choice == \"paper\"):\n",
    "            print(\"you win! you chose\", user_choice +\\\n",
    "                  \", computer chose\", computer_choice,\\\n",
    "                  \"+1 for you!\")\n",
    "    \n",
    "        # if it wasn't a tie and user didn't win, then computer won\n",
    "        else:\n",
    "            print(\"you lose! you chose\", user_choice +\\\n",
    "                  \", computer chose\", computer_choice,\\\n",
    "                  \"+1 for computer!\")"
   ]
  },
  {
   "cell_type": "code",
   "execution_count": 12,
   "metadata": {
    "collapsed": false
   },
   "outputs": [
    {
     "data": {
      "text/plain": [
       "'rock'"
      ]
     },
     "execution_count": 12,
     "metadata": {},
     "output_type": "execute_result"
    }
   ],
   "source": [
    "random.choice(options)"
   ]
  },
  {
   "cell_type": "code",
   "execution_count": 21,
   "metadata": {
    "collapsed": false
   },
   "outputs": [
    {
     "name": "stdout",
     "output_type": "stream",
     "text": [
      "you lose! you chose rock, computer chose paper +1 for computer!\n",
      "you lose! you chose rock, computer chose paper +1 for computer!\n",
      "you win! you chose rock, computer chose scissors +1 for you!\n",
      "it's a tie! You and computer both chose rock\n",
      "you lose! you chose rock, computer chose paper +1 for computer!\n",
      "you win! you chose rock, computer chose scissors +1 for you!\n",
      "it's a tie! You and computer both chose rock\n",
      "it's a tie! You and computer both chose rock\n",
      "you lose! you chose rock, computer chose paper +1 for computer!\n",
      "you win! you chose rock, computer chose scissors +1 for you!\n",
      "\n",
      "\n",
      "you win! you chose scissors, computer chose paper +1 for you!\n",
      "you lose! you chose scissors, computer chose rock +1 for computer!\n",
      "it's a tie! You and computer both chose scissors\n",
      "it's a tie! You and computer both chose scissors\n",
      "you lose! you chose scissors, computer chose rock +1 for computer!\n",
      "you lose! you chose scissors, computer chose rock +1 for computer!\n",
      "you lose! you chose scissors, computer chose rock +1 for computer!\n",
      "you lose! you chose scissors, computer chose rock +1 for computer!\n",
      "it's a tie! You and computer both chose scissors\n",
      "you lose! you chose scissors, computer chose rock +1 for computer!\n"
     ]
    }
   ],
   "source": [
    "# run the function 10 times with user input rock\n",
    "num_runs = 0\n",
    "while num_runs < 10:\n",
    "    rps(\"rock\")\n",
    "    num_runs = num_runs+1\n",
    "\n",
    "# print a blank line\n",
    "print(\"\\n\")\n",
    "# run the function 10 times with user input scissors\n",
    "num_runs = 0\n",
    "while num_runs < 10:\n",
    "    rps(\"scissors\")\n",
    "    num_runs = num_runs+1"
   ]
  },
  {
   "cell_type": "code",
   "execution_count": null,
   "metadata": {
    "collapsed": true
   },
   "outputs": [],
   "source": []
  }
 ],
 "metadata": {
  "anaconda-cloud": {},
  "kernelspec": {
   "display_name": "Python [conda root]",
   "language": "python",
   "name": "conda-root-py"
  },
  "language_info": {
   "codemirror_mode": {
    "name": "ipython",
    "version": 3
   },
   "file_extension": ".py",
   "mimetype": "text/x-python",
   "name": "python",
   "nbconvert_exporter": "python",
   "pygments_lexer": "ipython3",
   "version": "3.5.2"
  }
 },
 "nbformat": 4,
 "nbformat_minor": 2
}
